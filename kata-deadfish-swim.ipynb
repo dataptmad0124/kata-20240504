{
 "cells": [
  {
   "cell_type": "markdown",
   "id": "a447b8b5-f16b-451f-b45c-47746f721e1e",
   "metadata": {},
   "source": [
    "# Kata:"
   ]
  },
  {
   "cell_type": "markdown",
   "id": "c7379b61-1f04-4fa2-8865-bf3e2c83b39e",
   "metadata": {},
   "source": [
    "https://www.codewars.com/kata/51e0007c1f9378fa810002a9/train/python"
   ]
  },
  {
   "cell_type": "markdown",
   "id": "5e2a4659-1d95-44fb-b92c-4646b4da4e6f",
   "metadata": {},
   "source": [
    "## Your name or team members:"
   ]
  },
  {
   "cell_type": "markdown",
   "id": "68f95cde",
   "metadata": {},
   "source": [
    "Elena Arenal"
   ]
  },
  {
   "cell_type": "markdown",
   "id": "f04997cc-966d-4e06-8eb0-64ab376728f8",
   "metadata": {},
   "source": [
    "## Use the following cells to test your solution:"
   ]
  },
  {
   "cell_type": "code",
   "execution_count": null,
   "id": "4202edc5-f719-4068-96bd-55703a8a6c27",
   "metadata": {},
   "outputs": [],
   "source": [
    "def parse(data):\n",
    "    # TODO: your code here\n",
    "    return []\n",
    "#devuelve una lista res=[]\n",
    "#coge un string de partida\n",
    "\n",
    "initial=0\n",
    "for letra in data:\n",
    "    print (letra)\n",
    "    \n",
    "     if letra=='i':\n",
    "        initial==initial+1\n",
    "    elif letra=='d':\n",
    "        initial==initial-1\n",
    "    elif letra=='s':\n",
    "        initial==initial^2\n",
    "    elif letra=='o':\n",
    "        print (initial)\n",
    "\n",
    "\n"
   ]
  },
  {
   "cell_type": "code",
   "execution_count": null,
   "id": "1c1f6098-25a1-4805-a249-b833ca4a66a0",
   "metadata": {},
   "outputs": [],
   "source": [
    "data='idso'\n",
    "initial= 0\n",
    "lst=[]\n",
    "for letra in data:\n",
    "    lst.append(letra)\n",
    "\n",
    "for element in lst:\n",
    "    if element=='i':\n",
    "        initial=initial+1\n",
    "    elif element=='d':\n",
    "        initial=initial-1\n",
    "    elif element='s':\n",
    "        initial=initial^2\n",
    "    elif element=='o':\n",
    "        print (initial)\n",
    "    else:\n",
    "        pass\n",
    "    \n",
    " "
   ]
  },
  {
   "cell_type": "code",
   "execution_count": null,
   "id": "8b2d3c34",
   "metadata": {},
   "outputs": [],
   "source": [
    "data='idso'\n",
    "initial= 0\n",
    "lst=[]\n",
    "for letra in data:\n",
    "    lst.append(letra)\n",
    "    print(\"entro por el primer for\")\n",
    "    print(lst)\n",
    "lst2=[]\n",
    "for element in lst:\n",
    "    if element=='i':\n",
    "        print(\"entro por la 'i'\")\n",
    "        initial=initial+1\n",
    "        print(f\"initial == {initial}\")\n",
    "    lst2.append(initial)\n",
    "lst2"
   ]
  },
  {
   "cell_type": "code",
   "execution_count": 94,
   "id": "c5ab6d1d",
   "metadata": {},
   "outputs": [
    {
     "data": {
      "text/plain": [
       "False"
      ]
     },
     "execution_count": 94,
     "metadata": {},
     "output_type": "execute_result"
    }
   ],
   "source": [
    "initial = 3\n",
    "initial==initial+1"
   ]
  },
  {
   "cell_type": "code",
   "execution_count": null,
   "id": "66765a00",
   "metadata": {},
   "outputs": [],
   "source": [
    "data='iiisdoso'\n",
    "initial= 0\n",
    "lst=[]\n",
    "for letra in data:\n",
    "    lst.append(letra)\n",
    "    #print(\"entro por el primer for\")\n",
    "   # print(lst)\n",
    "#lst2=[]\n",
    "for element in lst:\n",
    "    if element=='i':\n",
    "        #print(\"entro por la 'i'\")\n",
    "        initial=initial+1\n",
    "        #print(f\"initial == {initial}\")\n",
    "     \n",
    "    elif element=='d':\n",
    "        #print(\"entro por la 'd\")\n",
    "        initial=initial-1\n",
    "        #print(f\"initial == {initial}\")\n",
    "     \n",
    "    elif element=='s':\n",
    "        #print(\"entro por la 's'\")\n",
    "        initial=initial*initial\n",
    "        #print(f\"initial == {initial}\")\n",
    "    elif element=='o':\n",
    "        #print(\"entro por la 'o'\")\n",
    "        print (initial)\n",
    "       # print(f\"initial == {initial}\")\n",
    "        \n",
    "    else:\n",
    "        pass\n",
    " \n",
    "    #lst2.append(initial)\n",
    "#lst2"
   ]
  },
  {
   "cell_type": "markdown",
   "id": "5e5948ae-bfb0-4aa7-8cc0-83970accb44a",
   "metadata": {},
   "source": [
    "## Copy your submited solution here:"
   ]
  },
  {
   "cell_type": "code",
   "execution_count": 102,
   "id": "811e1ab2",
   "metadata": {},
   "outputs": [],
   "source": [
    "\n",
    "def parse(data):\n",
    "    initial= 0\n",
    "    lst=[]\n",
    "    output=[]\n",
    "  \n",
    "    for letra in data:\n",
    "        lst.append(letra)\n",
    " \n",
    "    for element in lst:\n",
    "        if element=='i':\n",
    "        #print(\"entro por la 'i'\")\n",
    "            initial=initial+1\n",
    "        #print(f\"initial == {initial}\")\n",
    "     \n",
    "        elif element=='d':\n",
    "        #print(\"entro por la 'd\")\n",
    "            initial=initial-1\n",
    "        #print(f\"initial == {initial}\")\n",
    "     \n",
    "        elif element=='s':\n",
    "        #print(\"entro por la 's'\")\n",
    "            initial=initial*initial\n",
    "        #print(f\"initial == {initial}\")\n",
    "        elif element=='o':\n",
    "        #print(\"entro por la 'o'\")\n",
    "            output.append(initial)\n",
    "       # print(f\"initial == {initial}\")\n",
    "        \n",
    "    else:\n",
    "        pass\n",
    "    return output\n",
    "\n",
    "#No hacía falta hacer la primera lista, se puede iterar directamente en un string."
   ]
  },
  {
   "cell_type": "code",
   "execution_count": 100,
   "id": "1fd54a4a",
   "metadata": {},
   "outputs": [
    {
     "data": {
      "text/plain": [
       "[8, 64]"
      ]
     },
     "execution_count": 100,
     "metadata": {},
     "output_type": "execute_result"
    }
   ],
   "source": [
    "parse('iiisdoso')"
   ]
  }
 ],
 "metadata": {
  "kernelspec": {
   "display_name": "Python 3 (ipykernel)",
   "language": "python",
   "name": "python3"
  },
  "language_info": {
   "codemirror_mode": {
    "name": "ipython",
    "version": 3
   },
   "file_extension": ".py",
   "mimetype": "text/x-python",
   "name": "python",
   "nbconvert_exporter": "python",
   "pygments_lexer": "ipython3",
   "version": "3.11.5"
  }
 },
 "nbformat": 4,
 "nbformat_minor": 5
}
