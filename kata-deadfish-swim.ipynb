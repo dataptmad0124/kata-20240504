{
 "cells": [
  {
   "cell_type": "markdown",
   "id": "a447b8b5-f16b-451f-b45c-47746f721e1e",
   "metadata": {},
   "source": [
    "# Kata:"
   ]
  },
  {
   "cell_type": "markdown",
   "id": "c7379b61-1f04-4fa2-8865-bf3e2c83b39e",
   "metadata": {},
   "source": [
    "https://www.codewars.com/kata/51e0007c1f9378fa810002a9/train/python"
   ]
  },
  {
   "cell_type": "code",
   "execution_count": 54,
   "id": "b0bdb7b5",
   "metadata": {},
   "outputs": [],
   "source": [
    "import math"
   ]
  },
  {
   "cell_type": "code",
   "execution_count": 1,
   "id": "9746e8c1",
   "metadata": {},
   "outputs": [],
   "source": [
    "data= \"iiisdoso\""
   ]
  },
  {
   "cell_type": "code",
   "execution_count": 2,
   "id": "1c1f6098-25a1-4805-a249-b833ca4a66a0",
   "metadata": {},
   "outputs": [],
   "source": [
    "def parse(data):\n",
    "    \n",
    "    value= 0\n",
    "    result= []\n",
    "    \n",
    "    for char in data:\n",
    "        \n",
    "        if char  == \"i\":\n",
    "            value += 1\n",
    "            print (\"entra por la i\")\n",
    "            \n",
    "        elif char == \"d\":\n",
    "            value -= 1\n",
    "            print(\"entra por la d\")\n",
    "    \n",
    "        elif char == \"s\":\n",
    "            value *= value\n",
    "            print(\"entra por la s\")\n",
    "            \n",
    "        elif char == \"o\":\n",
    "            result.append(value)\n",
    "            print(\"hago append\")\n",
    "            \n",
    "   \n",
    "    return (result)\n",
    "\n",
    "            \n",
    "        \n"
   ]
  },
  {
   "cell_type": "code",
   "execution_count": 5,
   "id": "38c33b07",
   "metadata": {},
   "outputs": [
    {
     "name": "stdout",
     "output_type": "stream",
     "text": [
      "entra por la i\n",
      "entra por la i\n",
      "entra por la i\n",
      "entra por la s\n",
      "entra por la d\n",
      "hago append\n",
      "entra por la s\n",
      "hago append\n",
      "[8, 64]\n"
     ]
    }
   ],
   "source": [
    "print(parse(data))"
   ]
  },
  {
   "cell_type": "code",
   "execution_count": null,
   "id": "862494a3",
   "metadata": {},
   "outputs": [],
   "source": []
  }
 ],
 "metadata": {
  "kernelspec": {
   "display_name": "Python 3 (ipykernel)",
   "language": "python",
   "name": "python3"
  },
  "language_info": {
   "codemirror_mode": {
    "name": "ipython",
    "version": 3
   },
   "file_extension": ".py",
   "mimetype": "text/x-python",
   "name": "python",
   "nbconvert_exporter": "python",
   "pygments_lexer": "ipython3",
   "version": "3.11.5"
  }
 },
 "nbformat": 4,
 "nbformat_minor": 5
}
