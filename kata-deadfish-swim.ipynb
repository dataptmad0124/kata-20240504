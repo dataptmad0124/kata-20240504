{
 "cells": [
  {
   "cell_type": "markdown",
   "id": "a447b8b5-f16b-451f-b45c-47746f721e1e",
   "metadata": {},
   "source": [
    "# Kata:"
   ]
  },
  {
   "cell_type": "markdown",
   "id": "c7379b61-1f04-4fa2-8865-bf3e2c83b39e",
   "metadata": {},
   "source": [
    "https://www.codewars.com/kata/51e0007c1f9378fa810002a9/train/python"
   ]
  },
  {
   "cell_type": "markdown",
   "id": "5e2a4659-1d95-44fb-b92c-4646b4da4e6f",
   "metadata": {},
   "source": [
    "## Your name or team members:"
   ]
  },
  {
   "cell_type": "code",
   "execution_count": null,
   "id": "29ead553-d8b4-41aa-937f-7fd045595855",
   "metadata": {},
   "outputs": [],
   "source": [
    "Juan Carlos Romero Martinez"
   ]
  },
  {
   "cell_type": "markdown",
   "id": "f04997cc-966d-4e06-8eb0-64ab376728f8",
   "metadata": {},
   "source": [
    "## Use the following cells to test your solution:"
   ]
  },
  {
   "cell_type": "code",
   "execution_count": 146,
   "id": "4202edc5-f719-4068-96bd-55703a8a6c27",
   "metadata": {},
   "outputs": [],
   "source": [
    "def parse(data):\n",
    "    result=[]\n",
    "    value=0\n",
    "    for character in data:\n",
    "        if character == 'i':\n",
    "            print('aquí entra la i')\n",
    "            value +=1\n",
    "            \n",
    "        elif character == 'd':\n",
    "            print('aqui entra la d')\n",
    "            value -=1\n",
    "            \n",
    "        elif character == 's':\n",
    "            print('aqui entra la s')\n",
    "            \n",
    "            value= value * value\n",
    "            \n",
    "        elif character == 'o':\n",
    "            print('aqui entra la o')\n",
    "            result.append(value)\n",
    "            \n",
    "    return result"
   ]
  },
  {
   "cell_type": "code",
   "execution_count": 147,
   "id": "1c1f6098-25a1-4805-a249-b833ca4a66a0",
   "metadata": {},
   "outputs": [
    {
     "name": "stdout",
     "output_type": "stream",
     "text": [
      "aqui entra la o\n",
      "aqui entra la d\n",
      "aqui entra la s\n",
      "[0]\n"
     ]
    }
   ],
   "source": [
    "\n",
    "print(parse('codewars'))"
   ]
  },
  {
   "cell_type": "markdown",
   "id": "5e5948ae-bfb0-4aa7-8cc0-83970accb44a",
   "metadata": {},
   "source": [
    "## Copy your submited solution here:"
   ]
  },
  {
   "cell_type": "code",
   "execution_count": 148,
   "id": "cba8d0f9",
   "metadata": {},
   "outputs": [],
   "source": [
    "def parse(data):\n",
    "    result=[]\n",
    "    value=0\n",
    "    for character in data:\n",
    "        if character == 'i':\n",
    "            value +=1\n",
    "            \n",
    "        elif character == 'd':\n",
    "            value -=1\n",
    "            \n",
    "        elif character == 's':\n",
    "            value= value * value\n",
    "            \n",
    "        elif character == 'o':\n",
    "            result.append(value)\n",
    "            \n",
    "    return result"
   ]
  },
  {
   "cell_type": "code",
   "execution_count": null,
   "id": "d103ae57",
   "metadata": {},
   "outputs": [],
   "source": []
  }
 ],
 "metadata": {
  "kernelspec": {
   "display_name": "Python 3 (ipykernel)",
   "language": "python",
   "name": "python3"
  },
  "language_info": {
   "codemirror_mode": {
    "name": "ipython",
    "version": 3
   },
   "file_extension": ".py",
   "mimetype": "text/x-python",
   "name": "python",
   "nbconvert_exporter": "python",
   "pygments_lexer": "ipython3",
   "version": "3.11.5"
  }
 },
 "nbformat": 4,
 "nbformat_minor": 5
}
